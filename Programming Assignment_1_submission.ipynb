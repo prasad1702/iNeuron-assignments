{
 "cells": [
  {
   "cell_type": "markdown",
   "metadata": {},
   "source": [
    "## Programming Assignment_1\n",
    "-------------"
   ]
  },
  {
   "cell_type": "markdown",
   "metadata": {},
   "source": [
    "### 1. Write a Python program to print \"Hello Python\"?"
   ]
  },
  {
   "cell_type": "code",
   "execution_count": 1,
   "metadata": {},
   "outputs": [
    {
     "name": "stdout",
     "output_type": "stream",
     "text": [
      "Hello World\n"
     ]
    }
   ],
   "source": [
    "print (\"Hello World\")"
   ]
  },
  {
   "cell_type": "markdown",
   "metadata": {},
   "source": [
    "# 2. Write a Python program to do arithmetical operations addition and division.?"
   ]
  },
  {
   "cell_type": "code",
   "execution_count": 8,
   "metadata": {},
   "outputs": [
    {
     "name": "stdout",
     "output_type": "stream",
     "text": [
      "Enter first variable :- 6\n",
      "Enter second variable :- 2\n",
      "The addition of 2 num is:-  8\n",
      "The Divison of 2 num is:-  3.0\n"
     ]
    }
   ],
   "source": [
    "a = int(input(\"Enter first variable :- \"))\n",
    "b = int(input(\"Enter second variable :- \")) \n",
    "\n",
    "print(\"The addition of 2 num is:- \" ,  a + b)\n",
    "print(\"The Divison of 2 num is:- \" , a / b)"
   ]
  },
  {
   "cell_type": "markdown",
   "metadata": {},
   "source": [
    "### 3. Write a Python program to find the area of a triangle?\n"
   ]
  },
  {
   "cell_type": "code",
   "execution_count": 13,
   "metadata": {},
   "outputs": [
    {
     "name": "stdout",
     "output_type": "stream",
     "text": [
      "Enter the height of the triangle:- 7.5\n",
      "Enter the base of the Triangle:- 4.8\n",
      "Area Of Triangle Is:-  18.0\n"
     ]
    }
   ],
   "source": [
    "num1 = float(input(\"Enter the height of the triangle:- \"))\n",
    "num2 = float(input(\"Enter the base of the Triangle:- \"))\n",
    "\n",
    "area_of_triangle = (num1*num2)/2\n",
    "\n",
    "print(\"Area Of Triangle Is:- \" , area_of_triangle)"
   ]
  },
  {
   "cell_type": "markdown",
   "metadata": {},
   "source": [
    "### 4. Write a Python program to swap two variables?\n"
   ]
  },
  {
   "cell_type": "code",
   "execution_count": 9,
   "metadata": {},
   "outputs": [
    {
     "name": "stdout",
     "output_type": "stream",
     "text": [
      "Enter the value of a :- 57\n",
      "Enter the value of b :- 45\n",
      "The values after swapping are 45 & 57\n"
     ]
    }
   ],
   "source": [
    "a = int(input(\"Enter the value of a :- \"))\n",
    "b = int(input(\"Enter the value of b :- \"))\n",
    "\n",
    "temp = a\n",
    "a = b\n",
    "b = temp\n",
    "print (\"The values after swapping are\" , a , \"&\" , b)"
   ]
  },
  {
   "cell_type": "markdown",
   "metadata": {},
   "source": [
    "### 5. Write a Python program to generate a random number?\n"
   ]
  },
  {
   "cell_type": "code",
   "execution_count": 17,
   "metadata": {},
   "outputs": [
    {
     "name": "stdout",
     "output_type": "stream",
     "text": [
      "5\n"
     ]
    }
   ],
   "source": [
    "import random\n",
    "\n",
    "print(random.randint(0,9))"
   ]
  }
 ],
 "metadata": {
  "kernelspec": {
   "display_name": "Python 3",
   "language": "python",
   "name": "python3"
  },
  "language_info": {
   "codemirror_mode": {
    "name": "ipython",
    "version": 3
   },
   "file_extension": ".py",
   "mimetype": "text/x-python",
   "name": "python",
   "nbconvert_exporter": "python",
   "pygments_lexer": "ipython3",
   "version": "3.8.5"
  }
 },
 "nbformat": 4,
 "nbformat_minor": 5
}
